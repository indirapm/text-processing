{
  "nbformat": 4,
  "nbformat_minor": 0,
  "metadata": {
    "colab": {
      "provenance": []
    },
    "kernelspec": {
      "name": "python3",
      "display_name": "Python 3"
    },
    "language_info": {
      "name": "python"
    }
  },
  "cells": [
    {
      "cell_type": "markdown",
      "source": [
        "###Text Processing Code Development\n",
        "code by: Indira Puspita Margariza (indiramrgrz@gmail.com)\n",
        "\n",
        "This code is being used to complete AI Engineer Technical Test at Zettabyte.\n",
        "The goal of this code is to process given texts with clean words output which can be used for any text analytics model or othe related purposes. \n",
        "\n"
      ],
      "metadata": {
        "id": "ZtBYkjt_9WR2"
      }
    },
    {
      "cell_type": "code",
      "execution_count": 9,
      "metadata": {
        "colab": {
          "base_uri": "https://localhost:8080/"
        },
        "id": "EAKpwKkNlFC9",
        "outputId": "07bdec22-738a-4565-ea13-069b15940e23"
      },
      "outputs": [
        {
          "output_type": "stream",
          "name": "stderr",
          "text": [
            "[nltk_data] Downloading package punkt to /root/nltk_data...\n",
            "[nltk_data]   Package punkt is already up-to-date!\n",
            "[nltk_data] Downloading package wordnet to /root/nltk_data...\n",
            "[nltk_data]   Package wordnet is already up-to-date!\n",
            "[nltk_data] Downloading package stopwords to /root/nltk_data...\n",
            "[nltk_data]   Package stopwords is already up-to-date!\n",
            "[nltk_data] Downloading package averaged_perceptron_tagger to\n",
            "[nltk_data]     /root/nltk_data...\n",
            "[nltk_data]   Package averaged_perceptron_tagger is already up-to-\n",
            "[nltk_data]       date!\n",
            "[nltk_data] Downloading package omw-1.4 to /root/nltk_data...\n",
            "[nltk_data]   Package omw-1.4 is already up-to-date!\n"
          ]
        }
      ],
      "source": [
        "'''\n",
        "Importing necessary libraries. This code uses NLTK libarary for text processing.\n",
        "'''\n",
        "import nltk\n",
        "nltk.download('punkt')\n",
        "nltk.download('wordnet')\n",
        "nltk.download('stopwords')\n",
        "nltk.download('averaged_perceptron_tagger')\n",
        "nltk.download('omw-1.4')\n",
        "from nltk.tokenize import word_tokenize, regexp_tokenize \n",
        "from nltk.corpus import stopwords\n",
        "from nltk.stem import WordNetLemmatizer\n",
        "from nltk.stem.porter import *\n",
        "import re\n",
        "import pandas as pd"
      ]
    },
    {
      "cell_type": "code",
      "source": [
        "#Load text file. Please modify the path if necessary.\n",
        "text = open(f'text.txt', 'r')\n",
        "text = text.read()"
      ],
      "metadata": {
        "id": "tp_BkFRwlN8S"
      },
      "execution_count": 10,
      "outputs": []
    },
    {
      "cell_type": "code",
      "source": [
        "'''\n",
        "Tokenize the input text resulting list of words or character\n",
        "word_tokenize function is used to tokenize the text but there\n",
        "are still several words seperated with other characters which \n",
        "need to be tokenize.\n",
        "'''\n",
        "tokens = []\n",
        "#\n",
        "for token in word_tokenize(text):\n",
        "  #Remove two words separated by \"-\" or \"—\"\n",
        "  #Please add other character if necessary.\n",
        "  if \"-\" in token:\n",
        "    words = token.split(\"-\")\n",
        "    tokens.extend(words)\n",
        "  elif \"—\" in token:\n",
        "    words = token.split(\"—\")\n",
        "    tokens.extend(words)\n",
        "  else:\n",
        "    tokens.append(token)\n",
        "print(len(tokens), tokens)"
      ],
      "metadata": {
        "colab": {
          "base_uri": "https://localhost:8080/"
        },
        "id": "wtkyTyxalQNd",
        "outputId": "c988981e-adc8-49d7-9e20-48613a266fa7"
      },
      "execution_count": 11,
      "outputs": [
        {
          "output_type": "stream",
          "name": "stdout",
          "text": [
            "2323 ['Chapter', 'One', 'A', 'Stop', 'on', 'the', 'Salt', 'Route', '1000', 'B.C', '.', 'As', 'they', 'rounded', 'a', 'bend', 'in', 'the', 'path', 'that', 'ran', 'beside', 'the', 'river', ',', 'Lara', 'recognized', 'the', 'silhouette', 'of', 'a', 'fig', 'tree', 'atop', 'a', 'nearby', 'hill', '.', 'The', 'weather', 'was', 'hot', 'and', 'the', 'days', 'were', 'long', '.', 'The', 'fig', 'tree', 'was', 'in', 'full', 'leaf', ',', 'but', 'not', 'yet', 'bearing', 'fruit', '.', 'Soon', 'Lara', 'spotted', 'other', 'landmarks', 'an', 'outcropping', 'of', 'limestone', 'beside', 'the', 'path', 'that', 'had', 'a', 'silhouette', 'like', 'a', 'man', '’', 's', 'face', ',', 'a', 'marshy', 'spot', 'beside', 'the', 'river', 'where', 'the', 'waterfowl', 'were', 'easily', 'startled', ',', 'a', 'tall', 'tree', 'that', 'looked', 'like', 'a', 'man', 'with', 'his', 'arms', 'upraised', '.', 'They', 'were', 'drawing', 'near', 'to', 'the', 'place', 'where', 'there', 'was', 'an', 'island', 'in', 'the', 'river', '.', 'The', 'island', 'was', 'a', 'good', 'spot', 'to', 'make', 'camp', '.', 'They', 'would', 'sleep', 'on', 'the', 'island', 'tonight', '.', 'Lara', 'had', 'been', 'back', 'and', 'forth', 'along', 'the', 'river', 'path', 'many', 'times', 'in', 'her', 'short', 'life', '.', 'Her', 'people', 'had', 'not', 'created', 'the', 'path', 'it', 'had', 'always', 'been', 'there', ',', 'like', 'the', 'river', 'but', 'their', 'deerskin', 'shod', 'feet', 'and', 'the', 'wooden', 'wheels', 'of', 'their', 'handcarts', 'kept', 'the', 'path', 'well', 'worn', '.', 'Lara', '’', 's', 'people', 'were', 'salt', 'traders', ',', 'and', 'their', 'livelihood', 'took', 'them', 'on', 'a', 'continual', 'journey', '.', 'At', 'the', 'mouth', 'of', 'the', 'river', ',', 'the', 'little', 'group', 'of', 'half', 'a', 'dozen', 'intermingled', 'families', 'gathered', 'salt', 'from', 'the', 'great', 'salt', 'beds', 'beside', 'the', 'sea', '.', 'They', 'groomed', 'and', 'sifted', 'the', 'salt', 'and', 'loaded', 'it', 'into', 'handcarts', '.', 'When', 'the', 'carts', 'were', 'full', ',', 'most', 'of', 'the', 'group', 'would', 'stay', 'behind', ',', 'taking', 'shelter', 'amid', 'rocks', 'and', 'simple', 'lean', 'tos', ',', 'while', 'a', 'band', 'of', 'fifteen', 'or', 'so', 'of', 'the', 'heartier', 'members', 'set', 'out', 'on', 'the', 'path', 'that', 'ran', 'alongside', 'the', 'river', '.', 'With', 'their', 'precious', 'cargo', 'of', 'salt', ',', 'the', 'travelers', 'crossed', 'the', 'coastal', 'lowlands', 'and', 'traveled', 'toward', 'the', 'mountains', '.', 'But', 'Lara', '’', 's', 'people', 'never', 'reached', 'the', 'mountaintops', ';', 'they', 'traveled', 'only', 'as', 'far', 'as', 'the', 'foothills', '.', 'Many', 'people', 'lived', 'in', 'the', 'forests', 'and', 'grassy', 'meadows', 'of', 'the', 'foothills', ',', 'gathered', 'in', 'small', 'villages', '.', 'In', 'return', 'for', 'salt', ',', 'these', 'people', 'would', 'give', 'Lara', '’', 's', 'people', 'dried', 'meat', ',', 'animal', 'skins', ',', 'cloth', 'spun', 'from', 'wool', ',', 'clay', 'pots', ',', 'needles', 'and', 'scraping', 'tools', 'carved', 'from', 'bone', ',', 'and', 'little', 'toys', 'made', 'of', 'wood', '.', 'Their', 'bartering', 'done', ',', 'Lara', 'and', 'her', 'people', 'would', 'travel', 'back', 'down', 'the', 'river', 'path', 'to', 'the', 'sea', '.', 'The', 'cycle', 'would', 'begin', 'again', '.', 'It', 'had', 'always', 'been', 'like', 'this', '.', 'Lara', 'knew', 'no', 'other', 'life', '.', 'She', 'traveled', 'back', 'and', 'forth', ',', 'up', 'and', 'down', 'the', 'river', 'path', '.', 'No', 'single', 'place', 'was', 'home', '.', 'She', 'liked', 'the', 'seaside', ',', 'where', 'there', 'was', 'always', 'fish', 'to', 'eat', ',', 'and', 'the', 'gentle', 'lapping', 'of', 'the', 'waves', 'lulled', 'her', 'to', 'sleep', 'at', 'night', '.', 'She', 'was', 'less', 'fond', 'of', 'the', 'foothills', ',', 'where', 'the', 'path', 'grew', 'steep', ',', 'the', 'nights', 'could', 'be', 'cold', ',', 'and', 'views', 'of', 'great', 'distances', 'made', 'her', 'dizzy', '.', 'She', 'felt', 'uneasy', 'in', 'the', 'villages', ',', 'and', 'was', 'often', 'shy', 'around', 'strangers', '.', 'The', 'path', 'itself', 'was', 'where', 'she', 'felt', 'most', 'at', 'home', '.', 'She', 'loved', 'the', 'smell', 'of', 'the', 'river', 'on', 'a', 'hot', 'day', ',', 'and', 'the', 'croaking', 'of', 'frogs', 'at', 'night', '.', 'Vines', 'grew', 'amid', 'the', 'lush', 'foliage', 'along', 'the', 'river', ',', 'with', 'berries', 'that', 'were', 'good', 'to', 'eat', '.', 'Even', 'on', 'the', 'hottest', 'day', ',', 'sundown', 'brought', 'a', 'cool', 'breeze', 'off', 'the', 'water', ',', 'which', 'sighed', 'and', 'sang', 'amid', 'the', 'reeds', 'and', 'tall', 'grasses', '.', 'Of', 'all', 'the', 'places', 'along', 'the', 'path', ',', 'the', 'area', 'they', 'were', 'approaching', ',', 'with', 'the', 'island', 'in', 'the', 'river', ',', 'was', 'Lara', '’', 's', 'favorite', '.', 'The', 'terrain', 'along', 'this', 'stretch', 'of', 'the', 'river', 'was', 'mostly', 'flat', ',', 'but', 'in', 'the', 'immediate', 'vicinity', 'of', 'the', 'island', ',', 'the', 'land', 'on', 'the', 'sunrise', 'side', 'was', 'like', 'a', 'rumpled', 'cloth', ',', 'with', 'hills', 'and', 'ridges', 'and', 'valleys', '.', 'Among', 'Lara', '’', 's', 'people', ',', 'there', 'was', 'a', 'wooden', 'baby', '’', 's', 'crib', ',', 'suitable', 'for', 'strapping', 'to', 'a', 'cart', ',', 'that', 'had', 'been', 'passed', 'down', 'for', 'generations', '.', 'The', 'island', 'was', 'shaped', 'like', 'that', 'crib', ',', 'longer', 'than', 'it', 'was', 'wide', 'and', 'pointed', 'at', 'the', 'upriver', 'end', ',', 'where', 'the', 'flow', 'had', 'eroded', 'both', 'banks', '.', 'The', 'island', 'was', 'like', 'a', 'crib', ',', 'and', 'the', 'group', 'of', 'hills', 'on', 'the', 'sunrise', 'side', 'of', 'the', 'river', 'were', 'like', 'old', 'women', 'mantled', 'in', 'heavy', 'cloaks', 'gathered', 'to', 'have', 'a', 'look', 'at', 'the', 'baby', 'in', 'the', 'crib', 'that', 'was', 'how', 'Lara', '’', 's', 'father', 'had', 'once', 'described', 'the', 'lay', 'of', 'the', 'land', '.', 'Larth', 'spoke', 'like', 'that', 'all', 'the', 'time', ',', 'conjuring', 'images', 'of', 'giants', 'and', 'monsters', 'in', 'the', 'landscape', '.', 'He', 'could', 'perceive', 'the', 'spirits', ',', 'called', 'numina', ',', 'that', 'dwelled', 'in', 'rocks', 'and', 'trees', '.', 'Sometimes', 'he', 'could', 'speak', 'to', 'them', 'and', 'hear', 'what', 'they', 'had', 'to', 'say', '.', 'The', 'river', 'was', 'his', 'oldest', 'friend', 'and', 'told', 'him', 'where', 'the', 'fishing', 'would', 'be', 'best', '.', 'From', 'whispers', 'in', 'the', 'wind', 'he', 'could', 'foretell', 'the', 'next', 'day', '’', 's', 'weather', '.', 'Because', 'of', 'such', 'skills', ',', 'Larth', 'was', 'the', 'leader', 'of', 'the', 'group', '.', '“', 'We', '’', 're', 'close', 'to', 'the', 'island', ',', 'aren', '’', 't', 'we', ',', 'Papa', '?', '”', 'said', 'Lara', '.', '“', 'How', 'did', 'you', 'know', '?', '”', '“', 'The', 'hills', '.', 'First', 'we', 'start', 'to', 'see', 'the', 'hills', ',', 'off', 'to', 'the', 'right', '.', 'The', 'hills', 'grow', 'bigger', '.', 'And', 'just', 'before', 'we', 'come', 'to', 'the', 'island', ',', 'we', 'can', 'see', 'the', 'silhouette', 'of', 'that', 'fig', 'tree', 'up', 'there', ',', 'along', 'the', 'crest', 'of', 'that', 'hill.', '”', '“', 'Good', 'girl', '!', '”', 'said', 'Larth', ',', 'proud', 'of', 'his', 'daughter', '’', 's', 'memory', 'and', 'powers', 'of', 'observation', '.', 'He', 'was', 'a', 'strong', ',', 'handsome', 'man', 'with', 'flecks', 'of', 'gray', 'in', 'his', 'black', 'beard', '.', 'His', 'wife', 'had', 'borne', 'several', 'children', ',', 'but', 'all', 'had', 'died', 'very', 'young', 'except', 'Lara', ',', 'the', 'last', ',', 'whom', 'his', 'wife', 'had', 'died', 'bearing', '.', 'Lara', 'was', 'very', 'precious', 'to', 'him', '.', 'Like', 'her', 'mother', ',', 'she', 'had', 'golden', 'hair', '.', 'Now', 'that', 'she', 'had', 'reached', 'the', 'age', 'of', 'childbearing', ',', 'Lara', 'was', 'beginning', 'to', 'display', 'the', 'fullness', 'of', 'a', 'woman', '’', 's', 'hips', 'and', 'breasts', '.', 'It', 'was', 'Larth', '’', 's', 'greatest', 'wish', 'that', 'he', 'might', 'live', 'to', 'see', 'his', 'own', 'grandchildren', '.', 'Not', 'every', 'man', 'lived', 'that', 'long', ',', 'but', 'Larth', 'was', 'hopeful', '.', 'He', 'had', 'been', 'healthy', 'all', 'his', 'life', ',', 'partly', ',', 'he', 'believed', ',', 'because', 'he', 'had', 'always', 'been', 'careful', 'to', 'show', 'respect', 'to', 'the', 'numina', 'he', 'encountered', 'on', 'his', 'journeys', '.', 'Respecting', 'the', 'numina', 'was', 'important', '.', 'The', 'numen', 'of', 'the', 'river', 'could', 'suck', 'a', 'man', 'under', 'and', 'drown', 'him', '.', 'The', 'numen', 'of', 'a', 'tree', 'could', 'trip', 'a', 'man', 'with', 'its', 'roots', ',', 'or', 'drop', 'a', 'rotten', 'branch', 'on', 'his', 'head', '.', 'Rocks', 'could', 'give', 'way', 'underfoot', ',', 'chuckling', 'with', 'amusement', 'at', 'their', 'own', 'treachery', '.', 'Even', 'the', 'sky', ',', 'with', 'a', 'roar', 'of', 'fury', ',', 'sometimes', 'sent', 'down', 'fingers', 'of', 'fire', 'that', 'could', 'roast', 'a', 'man', 'like', 'a', 'rabbit', 'on', 'a', 'spit', ',', 'or', 'worse', ',', 'leave', 'him', 'alive', 'but', 'robbed', 'of', 'his', 'senses', '.', 'Larth', 'had', 'heard', 'that', 'the', 'earth', 'itself', 'could', 'open', 'and', 'swallow', 'a', 'man', ';', 'though', 'he', 'had', 'never', 'actually', 'seen', 'such', 'a', 'thing', ',', 'he', 'nevertheless', 'performed', 'a', 'ritual', 'each', 'morning', ',', 'asking', 'the', 'earth', '’', 's', 'permission', 'before', 'he', 'went', 'striding', 'across', 'it', '.', '“', 'There', '’', 's', 'something', 'so', 'special', 'about', 'this', 'place', ',', '”', 'said', 'Lara', ',', 'gazing', 'at', 'the', 'sparkling', 'river', 'to', 'her', 'left', 'and', 'then', 'at', 'the', 'rocky', ',', 'tree', 'spotted', 'hills', 'ahead', 'and', 'to', 'her', 'right', '.', '“', 'How', 'was', 'it', 'made', '?', 'Who', 'made', 'it', '?', '”', 'Larth', 'frowned', '.', 'The', 'question', 'made', 'no', 'sense', 'to', 'him', '.', 'A', 'place', 'was', 'never', 'made', ',', 'it', 'simply', 'was', '.', 'Small', 'features', 'might', 'change', 'over', 'time', '.', 'Uprooted', 'by', 'a', 'storm', ',', 'a', 'tree', 'might', 'fall', 'into', 'the', 'river', '.', 'A', 'boulder', 'might', 'decide', 'to', 'tumble', 'down', 'the', 'hillside', '.', 'The', 'numina', 'that', 'animated', 'all', 'things', 'went', 'about', 'reshaping', 'the', 'landscape', 'from', 'day', 'to', 'day', ',', 'but', 'the', 'essential', 'things', 'never', 'changed', ',', 'and', 'had', 'always', 'existed', ':', 'the', 'river', ',', 'the', 'hills', ',', 'the', 'sky', ',', 'the', 'sun', ',', 'the', 'sea', ',', 'the', 'salt', 'beds', 'at', 'the', 'mouth', 'of', 'the', 'river', '.', 'He', 'was', 'trying', 'to', 'think', 'of', 'some', 'way', 'to', 'express', 'these', 'thoughts', 'to', 'Lara', ',', 'when', 'a', 'deer', ',', 'drinking', 'at', 'the', 'river', ',', 'was', 'startled', 'by', 'their', 'approach', '.', 'The', 'deer', 'bolted', 'up', 'the', 'brushy', 'bank', 'and', 'onto', 'the', 'path', '.', 'Instead', 'of', 'running', 'to', 'safety', ',', 'the', 'creature', 'stood', 'and', 'stared', 'at', 'them', '.', 'As', 'clearly', 'as', 'if', 'the', 'animal', 'had', 'whispered', 'aloud', ',', 'Larth', 'heard', 'the', 'words', '“', 'Eat', 'me.', '”', 'The', 'deer', 'was', 'offering', 'herself', '.', 'Larth', 'turned', 'to', 'shout', 'an', 'order', ',', 'but', 'the', 'most', 'skilled', 'hunter', 'of', 'the', 'group', ',', 'a', 'youth', 'called', 'Po', ',', 'was', 'already', 'in', 'motion', '.', 'Po', 'ran', 'forward', ',', 'raised', 'the', 'sharpened', 'stick', 'he', 'always', 'carried', 'and', 'hurled', 'it', 'whistling', 'through', 'the', 'air', 'between', 'Larth', 'and', 'Lara', '.', 'A', 'heartbeat', 'later', ',', 'the', 'spear', 'struck', 'the', 'deer', '’', 's', 'breast', 'with', 'such', 'force', 'that', 'the', 'creature', 'was', 'knocked', 'to', 'the', 'ground', '.', 'Unable', 'to', 'rise', ',', 'she', 'thrashed', 'her', 'neck', 'and', 'flailed', 'her', 'long', ',', 'slender', 'legs', '.', 'Po', 'ran', 'past', 'Larth', 'and', 'Lara', '.', 'When', 'he', 'reached', 'the', 'deer', ',', 'he', 'pulled', 'the', 'spear', 'free', 'and', 'stabbed', 'the', 'creature', 'again', '.', 'The', 'deer', 'released', 'a', 'stifled', 'noise', ',', 'like', 'a', 'gasp', ',', 'and', 'stopped', 'moving', '.', 'There', 'was', 'a', 'cheer', 'from', 'the', 'group', '.', 'Instead', 'of', 'yet', 'another', 'dinner', 'of', 'fish', 'from', 'the', 'river', ',', 'tonight', 'there', 'would', 'be', 'venison', '.', 'The', 'distance', 'from', 'the', 'riverbank', 'to', 'the', 'island', 'was', 'not', 'great', ',', 'but', 'at', 'this', 'time', 'of', 'year', 'early', 'summer', 'the', 'river', 'was', 'too', 'high', 'to', 'wade', 'across', '.', 'Lara', '’', 's', 'people', 'had', 'long', 'ago', 'made', 'simple', 'rafts', 'of', 'branches', 'lashed', 'together', 'with', 'leather', 'thongs', ',', 'which', 'they', 'left', 'on', 'the', 'riverbanks', ',', 'repairing', 'and', 'replacing', 'them', 'as', 'needed', '.', 'When', 'they', 'last', 'passed', 'this', 'way', ',', 'there', 'had', 'been', 'three', 'rafts', ',', 'all', 'in', 'good', 'condition', ',', 'left', 'on', 'the', 'east', 'bank', '.', 'Two', 'of', 'the', 'rafts', 'were', 'still', 'there', ',', 'but', 'one', 'was', 'missing', '.', '“', 'I', 'see', 'it', '!', 'There', 'pulled', 'up', 'on', 'the', 'bank', 'of', 'the', 'island', ',', 'almost', 'hidden', 'among', 'those', 'leaves', ',', '”', 'said', 'Po', ',', 'whose', 'eyes', 'were', 'sharp', '.', '“', 'Someone', 'must', 'have', 'used', 'it', 'to', 'cross', 'over.', '”', '“', 'Perhaps', 'they', '’', 're', 'still', 'on', 'the', 'island', ',', '”', 'said', 'Larth', '.', 'He', 'did', 'not', 'begrudge', 'others', 'the', 'use', 'of', 'the', 'rafts', ',', 'and', 'the', 'island', 'was', 'large', 'enough', 'to', 'share', '.', 'Nonetheless', ',', 'the', 'situation', 'required', 'caution', '.', 'He', 'cupped', 'his', 'hands', 'to', 'his', 'mouth', 'and', 'gave', 'a', 'shout', '.', 'It', 'was', 'not', 'long', 'before', 'a', 'man', 'appeared', 'on', 'the', 'bank', 'of', 'the', 'island', '.', 'The', 'man', 'waved', '.', '“', 'Do', 'we', 'know', 'him', '?', '”', 'said', 'Larth', ',', 'squinting', '.', '“', 'I', 'don', '’', 't', 'think', 'so', ',', '”', 'said', 'Po', '.', '“', 'He', '’', 's', 'young', 'my', 'age', 'or', 'younger', ',', 'I', '’', 'd', 'say', '.', 'He', 'looks', 'strong.', '”', '“', 'Very', 'strong', '!', '”', 'said', 'Lara', '.', 'Even', 'from', 'this', 'distance', ',', 'the', 'young', 'stranger', '’', 's', 'brawniness', 'was', 'impressive', '.', 'He', 'wore', 'a', 'short', 'tunic', 'without', 'sleeves', ',', 'and', 'Lara', 'had', 'never', 'seen', 'such', 'arms', 'on', 'a', 'man', '.', 'Po', ',', 'who', 'was', 'small', 'and', 'wiry', ',', 'looked', 'at', 'Lara', 'sidelong', 'and', 'frowned', '.', '“', 'I', '’', 'm', 'not', 'sure', 'I', 'like', 'the', 'look', 'of', 'this', 'stranger.', '”', '“', 'Why', 'not', '?', '”', 'said', 'Lara', '.', '“', 'He', '’', 's', 'smiling', 'at', 'us.', '”', 'In', 'fact', ',', 'the', 'young', 'man', 'was', 'smiling', 'at', 'Lara', ',', 'and', 'Lara', 'alone', '.', 'His', 'name', 'was', 'Tarketios', '.', 'Much', 'more', 'than', 'that', ',', 'Larth', 'could', 'not', 'tell', ',', 'for', 'the', 'stranger', 'spoke', 'a', 'language', 'which', 'Larth', 'did', 'not', 'recognize', ',', 'in', 'which', 'each', 'word', 'seemed', 'as', 'long', 'and', 'convoluted', 'as', 'the', 'man', '’', 's', 'name', '.', 'Understanding', 'the', 'deer', 'had', 'been', 'easier', 'than', 'understanding', 'the', 'strange', 'noises', 'uttered', 'by', 'this', 'man', 'and', 'his', 'two', 'companions', '!', 'Even', 'so', ',', 'they', 'seemed', 'friendly', ',', 'and', 'the', 'three', 'of', 'them', 'presented', 'no', 'threat', 'to', 'the', 'more', 'numerous', 'salt', 'traders', '.', 'Tarketios', 'and', 'his', 'two', 'older', 'companions', 'were', 'skilled', 'metalworkers', 'from', 'a', 'region', 'some', 'two', 'hundred', 'miles', 'to', 'the', 'north', ',', 'where', 'the', 'hills', 'were', 'rich', 'with', 'iron', ',', 'copper', ',', 'and', 'lead', '.', 'They', 'had', 'been', 'on', 'a', 'trading', 'journey', 'to', 'the', 'south', 'and', 'were', 'returning', 'home', '.', 'Just', 'as', 'the', 'river', 'path', 'carried', 'Larth', '’', 's', 'people', 'from', 'the', 'seashore', 'to', 'the', 'hills', ',', 'so', 'another', 'path', ',', 'perpendicular', 'to', 'the', 'river', ',', 'traversed', 'the', 'long', 'coastal', 'plain', '.', 'Because', 'the', 'island', 'provided', 'an', 'easy', 'place', 'to', 'ford', 'the', 'river', ',', 'it', 'was', 'here', 'that', 'the', 'two', 'paths', 'intersected', '.', 'On', 'this', 'occasion', ',', 'the', 'salt', 'traders', 'and', 'the', 'metal', 'traders', 'happened', 'to', 'arrive', 'at', 'the', 'island', 'on', 'the', 'same', 'day', '.', 'Now', 'they', 'met', 'for', 'the', 'first', 'time', '.', 'The', 'two', 'groups', 'made', 'separate', 'camps', 'at', 'opposite', 'ends', 'of', 'the', 'island', '.', 'As', 'a', 'gesture', 'of', 'friendship', ',', 'speaking', 'with', 'his', 'hands', ',', 'Larth', 'invited', 'Tarketios', 'and', 'the', 'others', 'to', 'share', 'the', 'venison', 'that', 'night', '.', 'As', 'the', 'hosts', 'and', 'their', 'guests', 'feasted', 'around', 'the', 'roasting', 'fire', ',', 'Tarketios', 'tried', 'to', 'explain', 'something', 'of', 'his', 'craft', '.', 'Firelight', 'glittered', 'in', 'Lara', '’', 's', 'eyes', 'as', 'she', 'watched', 'Tarketios', 'point', 'at', 'the', 'flames', 'and', 'mime', 'the', 'act', 'of', 'hammering', '.', 'Firelight', 'danced', 'across', 'the', 'flexing', 'muscles', 'of', 'his', 'arms', 'and', 'shoulders', '.', 'When', 'he', 'smiled', 'at', 'her', ',', 'his', 'grin', 'was', 'like', 'a', 'boast', '.', 'She', 'had', 'never', 'seen', 'teeth', 'so', 'white', 'and', 'so', 'perfect', '.']\n"
          ]
        }
      ]
    },
    {
      "cell_type": "code",
      "source": [
        "def filter_token(tokens):\n",
        "  '''\n",
        "  Filter words with no vowel or consist non alphabetical character\n",
        "\n",
        "  Parameter:\n",
        "    tokens: List\n",
        "      List of words or tokens\n",
        "  Return:\n",
        "    new_tokens: List\n",
        "      List of filtered words\n",
        "  '''\n",
        "  new_tokens = []\n",
        "  for token in tokens:\n",
        "    token = re.sub(r'[^a-zA-Z]+', '', token.lower())\n",
        "    count_vowel = len([vowel for vowel in token if vowel in 'aiueo'])\n",
        "    if count_vowel != 0:\n",
        "      new_tokens.append(token) \n",
        "  return new_tokens\n",
        "\n",
        "#filter tokens\n",
        "clean_tokens = filter_token(tokens)\n",
        "print(len(clean_tokens), clean_tokens)"
      ],
      "metadata": {
        "colab": {
          "base_uri": "https://localhost:8080/"
        },
        "id": "AqtHbA71lysu",
        "outputId": "3316fd76-d297-4ec6-cafa-f875de891251"
      },
      "execution_count": 12,
      "outputs": [
        {
          "output_type": "stream",
          "name": "stdout",
          "text": [
            "1957 ['chapter', 'one', 'a', 'stop', 'on', 'the', 'salt', 'route', 'as', 'they', 'rounded', 'a', 'bend', 'in', 'the', 'path', 'that', 'ran', 'beside', 'the', 'river', 'lara', 'recognized', 'the', 'silhouette', 'of', 'a', 'fig', 'tree', 'atop', 'a', 'nearby', 'hill', 'the', 'weather', 'was', 'hot', 'and', 'the', 'days', 'were', 'long', 'the', 'fig', 'tree', 'was', 'in', 'full', 'leaf', 'but', 'not', 'yet', 'bearing', 'fruit', 'soon', 'lara', 'spotted', 'other', 'landmarks', 'an', 'outcropping', 'of', 'limestone', 'beside', 'the', 'path', 'that', 'had', 'a', 'silhouette', 'like', 'a', 'man', 'face', 'a', 'marshy', 'spot', 'beside', 'the', 'river', 'where', 'the', 'waterfowl', 'were', 'easily', 'startled', 'a', 'tall', 'tree', 'that', 'looked', 'like', 'a', 'man', 'with', 'his', 'arms', 'upraised', 'they', 'were', 'drawing', 'near', 'to', 'the', 'place', 'where', 'there', 'was', 'an', 'island', 'in', 'the', 'river', 'the', 'island', 'was', 'a', 'good', 'spot', 'to', 'make', 'camp', 'they', 'would', 'sleep', 'on', 'the', 'island', 'tonight', 'lara', 'had', 'been', 'back', 'and', 'forth', 'along', 'the', 'river', 'path', 'many', 'times', 'in', 'her', 'short', 'life', 'her', 'people', 'had', 'not', 'created', 'the', 'path', 'it', 'had', 'always', 'been', 'there', 'like', 'the', 'river', 'but', 'their', 'deerskin', 'shod', 'feet', 'and', 'the', 'wooden', 'wheels', 'of', 'their', 'handcarts', 'kept', 'the', 'path', 'well', 'worn', 'lara', 'people', 'were', 'salt', 'traders', 'and', 'their', 'livelihood', 'took', 'them', 'on', 'a', 'continual', 'journey', 'at', 'the', 'mouth', 'of', 'the', 'river', 'the', 'little', 'group', 'of', 'half', 'a', 'dozen', 'intermingled', 'families', 'gathered', 'salt', 'from', 'the', 'great', 'salt', 'beds', 'beside', 'the', 'sea', 'they', 'groomed', 'and', 'sifted', 'the', 'salt', 'and', 'loaded', 'it', 'into', 'handcarts', 'when', 'the', 'carts', 'were', 'full', 'most', 'of', 'the', 'group', 'would', 'stay', 'behind', 'taking', 'shelter', 'amid', 'rocks', 'and', 'simple', 'lean', 'tos', 'while', 'a', 'band', 'of', 'fifteen', 'or', 'so', 'of', 'the', 'heartier', 'members', 'set', 'out', 'on', 'the', 'path', 'that', 'ran', 'alongside', 'the', 'river', 'with', 'their', 'precious', 'cargo', 'of', 'salt', 'the', 'travelers', 'crossed', 'the', 'coastal', 'lowlands', 'and', 'traveled', 'toward', 'the', 'mountains', 'but', 'lara', 'people', 'never', 'reached', 'the', 'mountaintops', 'they', 'traveled', 'only', 'as', 'far', 'as', 'the', 'foothills', 'many', 'people', 'lived', 'in', 'the', 'forests', 'and', 'grassy', 'meadows', 'of', 'the', 'foothills', 'gathered', 'in', 'small', 'villages', 'in', 'return', 'for', 'salt', 'these', 'people', 'would', 'give', 'lara', 'people', 'dried', 'meat', 'animal', 'skins', 'cloth', 'spun', 'from', 'wool', 'clay', 'pots', 'needles', 'and', 'scraping', 'tools', 'carved', 'from', 'bone', 'and', 'little', 'toys', 'made', 'of', 'wood', 'their', 'bartering', 'done', 'lara', 'and', 'her', 'people', 'would', 'travel', 'back', 'down', 'the', 'river', 'path', 'to', 'the', 'sea', 'the', 'cycle', 'would', 'begin', 'again', 'it', 'had', 'always', 'been', 'like', 'this', 'lara', 'knew', 'no', 'other', 'life', 'she', 'traveled', 'back', 'and', 'forth', 'up', 'and', 'down', 'the', 'river', 'path', 'no', 'single', 'place', 'was', 'home', 'she', 'liked', 'the', 'seaside', 'where', 'there', 'was', 'always', 'fish', 'to', 'eat', 'and', 'the', 'gentle', 'lapping', 'of', 'the', 'waves', 'lulled', 'her', 'to', 'sleep', 'at', 'night', 'she', 'was', 'less', 'fond', 'of', 'the', 'foothills', 'where', 'the', 'path', 'grew', 'steep', 'the', 'nights', 'could', 'be', 'cold', 'and', 'views', 'of', 'great', 'distances', 'made', 'her', 'dizzy', 'she', 'felt', 'uneasy', 'in', 'the', 'villages', 'and', 'was', 'often', 'around', 'strangers', 'the', 'path', 'itself', 'was', 'where', 'she', 'felt', 'most', 'at', 'home', 'she', 'loved', 'the', 'smell', 'of', 'the', 'river', 'on', 'a', 'hot', 'day', 'and', 'the', 'croaking', 'of', 'frogs', 'at', 'night', 'vines', 'grew', 'amid', 'the', 'lush', 'foliage', 'along', 'the', 'river', 'with', 'berries', 'that', 'were', 'good', 'to', 'eat', 'even', 'on', 'the', 'hottest', 'day', 'sundown', 'brought', 'a', 'cool', 'breeze', 'off', 'the', 'water', 'which', 'sighed', 'and', 'sang', 'amid', 'the', 'reeds', 'and', 'tall', 'grasses', 'of', 'all', 'the', 'places', 'along', 'the', 'path', 'the', 'area', 'they', 'were', 'approaching', 'with', 'the', 'island', 'in', 'the', 'river', 'was', 'lara', 'favorite', 'the', 'terrain', 'along', 'this', 'stretch', 'of', 'the', 'river', 'was', 'mostly', 'flat', 'but', 'in', 'the', 'immediate', 'vicinity', 'of', 'the', 'island', 'the', 'land', 'on', 'the', 'sunrise', 'side', 'was', 'like', 'a', 'rumpled', 'cloth', 'with', 'hills', 'and', 'ridges', 'and', 'valleys', 'among', 'lara', 'people', 'there', 'was', 'a', 'wooden', 'baby', 'crib', 'suitable', 'for', 'strapping', 'to', 'a', 'cart', 'that', 'had', 'been', 'passed', 'down', 'for', 'generations', 'the', 'island', 'was', 'shaped', 'like', 'that', 'crib', 'longer', 'than', 'it', 'was', 'wide', 'and', 'pointed', 'at', 'the', 'upriver', 'end', 'where', 'the', 'flow', 'had', 'eroded', 'both', 'banks', 'the', 'island', 'was', 'like', 'a', 'crib', 'and', 'the', 'group', 'of', 'hills', 'on', 'the', 'sunrise', 'side', 'of', 'the', 'river', 'were', 'like', 'old', 'women', 'mantled', 'in', 'heavy', 'cloaks', 'gathered', 'to', 'have', 'a', 'look', 'at', 'the', 'baby', 'in', 'the', 'crib', 'that', 'was', 'how', 'lara', 'father', 'had', 'once', 'described', 'the', 'lay', 'of', 'the', 'land', 'larth', 'spoke', 'like', 'that', 'all', 'the', 'time', 'conjuring', 'images', 'of', 'giants', 'and', 'monsters', 'in', 'the', 'landscape', 'he', 'could', 'perceive', 'the', 'spirits', 'called', 'numina', 'that', 'dwelled', 'in', 'rocks', 'and', 'trees', 'sometimes', 'he', 'could', 'speak', 'to', 'them', 'and', 'hear', 'what', 'they', 'had', 'to', 'say', 'the', 'river', 'was', 'his', 'oldest', 'friend', 'and', 'told', 'him', 'where', 'the', 'fishing', 'would', 'be', 'best', 'from', 'whispers', 'in', 'the', 'wind', 'he', 'could', 'foretell', 'the', 'next', 'day', 'weather', 'because', 'of', 'such', 'skills', 'larth', 'was', 'the', 'leader', 'of', 'the', 'group', 'we', 're', 'close', 'to', 'the', 'island', 'aren', 'we', 'papa', 'said', 'lara', 'how', 'did', 'you', 'know', 'the', 'hills', 'first', 'we', 'start', 'to', 'see', 'the', 'hills', 'off', 'to', 'the', 'right', 'the', 'hills', 'grow', 'bigger', 'and', 'just', 'before', 'we', 'come', 'to', 'the', 'island', 'we', 'can', 'see', 'the', 'silhouette', 'of', 'that', 'fig', 'tree', 'up', 'there', 'along', 'the', 'crest', 'of', 'that', 'hill', 'good', 'girl', 'said', 'larth', 'proud', 'of', 'his', 'daughter', 'memory', 'and', 'powers', 'of', 'observation', 'he', 'was', 'a', 'strong', 'handsome', 'man', 'with', 'flecks', 'of', 'gray', 'in', 'his', 'black', 'beard', 'his', 'wife', 'had', 'borne', 'several', 'children', 'but', 'all', 'had', 'died', 'very', 'young', 'except', 'lara', 'the', 'last', 'whom', 'his', 'wife', 'had', 'died', 'bearing', 'lara', 'was', 'very', 'precious', 'to', 'him', 'like', 'her', 'mother', 'she', 'had', 'golden', 'hair', 'now', 'that', 'she', 'had', 'reached', 'the', 'age', 'of', 'childbearing', 'lara', 'was', 'beginning', 'to', 'display', 'the', 'fullness', 'of', 'a', 'woman', 'hips', 'and', 'breasts', 'it', 'was', 'larth', 'greatest', 'wish', 'that', 'he', 'might', 'live', 'to', 'see', 'his', 'own', 'grandchildren', 'not', 'every', 'man', 'lived', 'that', 'long', 'but', 'larth', 'was', 'hopeful', 'he', 'had', 'been', 'healthy', 'all', 'his', 'life', 'partly', 'he', 'believed', 'because', 'he', 'had', 'always', 'been', 'careful', 'to', 'show', 'respect', 'to', 'the', 'numina', 'he', 'encountered', 'on', 'his', 'journeys', 'respecting', 'the', 'numina', 'was', 'important', 'the', 'numen', 'of', 'the', 'river', 'could', 'suck', 'a', 'man', 'under', 'and', 'drown', 'him', 'the', 'numen', 'of', 'a', 'tree', 'could', 'trip', 'a', 'man', 'with', 'its', 'roots', 'or', 'drop', 'a', 'rotten', 'branch', 'on', 'his', 'head', 'rocks', 'could', 'give', 'way', 'underfoot', 'chuckling', 'with', 'amusement', 'at', 'their', 'own', 'treachery', 'even', 'the', 'with', 'a', 'roar', 'of', 'fury', 'sometimes', 'sent', 'down', 'fingers', 'of', 'fire', 'that', 'could', 'roast', 'a', 'man', 'like', 'a', 'rabbit', 'on', 'a', 'spit', 'or', 'worse', 'leave', 'him', 'alive', 'but', 'robbed', 'of', 'his', 'senses', 'larth', 'had', 'heard', 'that', 'the', 'earth', 'itself', 'could', 'open', 'and', 'swallow', 'a', 'man', 'though', 'he', 'had', 'never', 'actually', 'seen', 'such', 'a', 'thing', 'he', 'nevertheless', 'performed', 'a', 'ritual', 'each', 'morning', 'asking', 'the', 'earth', 'permission', 'before', 'he', 'went', 'striding', 'across', 'it', 'there', 'something', 'so', 'special', 'about', 'this', 'place', 'said', 'lara', 'gazing', 'at', 'the', 'sparkling', 'river', 'to', 'her', 'left', 'and', 'then', 'at', 'the', 'rocky', 'tree', 'spotted', 'hills', 'ahead', 'and', 'to', 'her', 'right', 'how', 'was', 'it', 'made', 'who', 'made', 'it', 'larth', 'frowned', 'the', 'question', 'made', 'no', 'sense', 'to', 'him', 'a', 'place', 'was', 'never', 'made', 'it', 'simply', 'was', 'small', 'features', 'might', 'change', 'over', 'time', 'uprooted', 'a', 'storm', 'a', 'tree', 'might', 'fall', 'into', 'the', 'river', 'a', 'boulder', 'might', 'decide', 'to', 'tumble', 'down', 'the', 'hillside', 'the', 'numina', 'that', 'animated', 'all', 'things', 'went', 'about', 'reshaping', 'the', 'landscape', 'from', 'day', 'to', 'day', 'but', 'the', 'essential', 'things', 'never', 'changed', 'and', 'had', 'always', 'existed', 'the', 'river', 'the', 'hills', 'the', 'the', 'sun', 'the', 'sea', 'the', 'salt', 'beds', 'at', 'the', 'mouth', 'of', 'the', 'river', 'he', 'was', 'trying', 'to', 'think', 'of', 'some', 'way', 'to', 'express', 'these', 'thoughts', 'to', 'lara', 'when', 'a', 'deer', 'drinking', 'at', 'the', 'river', 'was', 'startled', 'their', 'approach', 'the', 'deer', 'bolted', 'up', 'the', 'brushy', 'bank', 'and', 'onto', 'the', 'path', 'instead', 'of', 'running', 'to', 'safety', 'the', 'creature', 'stood', 'and', 'stared', 'at', 'them', 'as', 'clearly', 'as', 'if', 'the', 'animal', 'had', 'whispered', 'aloud', 'larth', 'heard', 'the', 'words', 'eat', 'me', 'the', 'deer', 'was', 'offering', 'herself', 'larth', 'turned', 'to', 'shout', 'an', 'order', 'but', 'the', 'most', 'skilled', 'hunter', 'of', 'the', 'group', 'a', 'youth', 'called', 'po', 'was', 'already', 'in', 'motion', 'po', 'ran', 'forward', 'raised', 'the', 'sharpened', 'stick', 'he', 'always', 'carried', 'and', 'hurled', 'it', 'whistling', 'through', 'the', 'air', 'between', 'larth', 'and', 'lara', 'a', 'heartbeat', 'later', 'the', 'spear', 'struck', 'the', 'deer', 'breast', 'with', 'such', 'force', 'that', 'the', 'creature', 'was', 'knocked', 'to', 'the', 'ground', 'unable', 'to', 'rise', 'she', 'thrashed', 'her', 'neck', 'and', 'flailed', 'her', 'long', 'slender', 'legs', 'po', 'ran', 'past', 'larth', 'and', 'lara', 'when', 'he', 'reached', 'the', 'deer', 'he', 'pulled', 'the', 'spear', 'free', 'and', 'stabbed', 'the', 'creature', 'again', 'the', 'deer', 'released', 'a', 'stifled', 'noise', 'like', 'a', 'gasp', 'and', 'stopped', 'moving', 'there', 'was', 'a', 'cheer', 'from', 'the', 'group', 'instead', 'of', 'yet', 'another', 'dinner', 'of', 'fish', 'from', 'the', 'river', 'tonight', 'there', 'would', 'be', 'venison', 'the', 'distance', 'from', 'the', 'riverbank', 'to', 'the', 'island', 'was', 'not', 'great', 'but', 'at', 'this', 'time', 'of', 'year', 'early', 'summer', 'the', 'river', 'was', 'too', 'high', 'to', 'wade', 'across', 'lara', 'people', 'had', 'long', 'ago', 'made', 'simple', 'rafts', 'of', 'branches', 'lashed', 'together', 'with', 'leather', 'thongs', 'which', 'they', 'left', 'on', 'the', 'riverbanks', 'repairing', 'and', 'replacing', 'them', 'as', 'needed', 'when', 'they', 'last', 'passed', 'this', 'way', 'there', 'had', 'been', 'three', 'rafts', 'all', 'in', 'good', 'condition', 'left', 'on', 'the', 'east', 'bank', 'two', 'of', 'the', 'rafts', 'were', 'still', 'there', 'but', 'one', 'was', 'missing', 'i', 'see', 'it', 'there', 'pulled', 'up', 'on', 'the', 'bank', 'of', 'the', 'island', 'almost', 'hidden', 'among', 'those', 'leaves', 'said', 'po', 'whose', 'eyes', 'were', 'sharp', 'someone', 'must', 'have', 'used', 'it', 'to', 'cross', 'over', 'perhaps', 'they', 're', 'still', 'on', 'the', 'island', 'said', 'larth', 'he', 'did', 'not', 'begrudge', 'others', 'the', 'use', 'of', 'the', 'rafts', 'and', 'the', 'island', 'was', 'large', 'enough', 'to', 'share', 'nonetheless', 'the', 'situation', 'required', 'caution', 'he', 'cupped', 'his', 'hands', 'to', 'his', 'mouth', 'and', 'gave', 'a', 'shout', 'it', 'was', 'not', 'long', 'before', 'a', 'man', 'appeared', 'on', 'the', 'bank', 'of', 'the', 'island', 'the', 'man', 'waved', 'do', 'we', 'know', 'him', 'said', 'larth', 'squinting', 'i', 'don', 'think', 'so', 'said', 'po', 'he', 'young', 'age', 'or', 'younger', 'i', 'say', 'he', 'looks', 'strong', 'very', 'strong', 'said', 'lara', 'even', 'from', 'this', 'distance', 'the', 'young', 'stranger', 'brawniness', 'was', 'impressive', 'he', 'wore', 'a', 'short', 'tunic', 'without', 'sleeves', 'and', 'lara', 'had', 'never', 'seen', 'such', 'arms', 'on', 'a', 'man', 'po', 'who', 'was', 'small', 'and', 'wiry', 'looked', 'at', 'lara', 'sidelong', 'and', 'frowned', 'i', 'not', 'sure', 'i', 'like', 'the', 'look', 'of', 'this', 'stranger', 'not', 'said', 'lara', 'he', 'smiling', 'at', 'us', 'in', 'fact', 'the', 'young', 'man', 'was', 'smiling', 'at', 'lara', 'and', 'lara', 'alone', 'his', 'name', 'was', 'tarketios', 'much', 'more', 'than', 'that', 'larth', 'could', 'not', 'tell', 'for', 'the', 'stranger', 'spoke', 'a', 'language', 'which', 'larth', 'did', 'not', 'recognize', 'in', 'which', 'each', 'word', 'seemed', 'as', 'long', 'and', 'convoluted', 'as', 'the', 'man', 'name', 'understanding', 'the', 'deer', 'had', 'been', 'easier', 'than', 'understanding', 'the', 'strange', 'noises', 'uttered', 'this', 'man', 'and', 'his', 'two', 'companions', 'even', 'so', 'they', 'seemed', 'friendly', 'and', 'the', 'three', 'of', 'them', 'presented', 'no', 'threat', 'to', 'the', 'more', 'numerous', 'salt', 'traders', 'tarketios', 'and', 'his', 'two', 'older', 'companions', 'were', 'skilled', 'metalworkers', 'from', 'a', 'region', 'some', 'two', 'hundred', 'miles', 'to', 'the', 'north', 'where', 'the', 'hills', 'were', 'rich', 'with', 'iron', 'copper', 'and', 'lead', 'they', 'had', 'been', 'on', 'a', 'trading', 'journey', 'to', 'the', 'south', 'and', 'were', 'returning', 'home', 'just', 'as', 'the', 'river', 'path', 'carried', 'larth', 'people', 'from', 'the', 'seashore', 'to', 'the', 'hills', 'so', 'another', 'path', 'perpendicular', 'to', 'the', 'river', 'traversed', 'the', 'long', 'coastal', 'plain', 'because', 'the', 'island', 'provided', 'an', 'easy', 'place', 'to', 'ford', 'the', 'river', 'it', 'was', 'here', 'that', 'the', 'two', 'paths', 'intersected', 'on', 'this', 'occasion', 'the', 'salt', 'traders', 'and', 'the', 'metal', 'traders', 'happened', 'to', 'arrive', 'at', 'the', 'island', 'on', 'the', 'same', 'day', 'now', 'they', 'met', 'for', 'the', 'first', 'time', 'the', 'two', 'groups', 'made', 'separate', 'camps', 'at', 'opposite', 'ends', 'of', 'the', 'island', 'as', 'a', 'gesture', 'of', 'friendship', 'speaking', 'with', 'his', 'hands', 'larth', 'invited', 'tarketios', 'and', 'the', 'others', 'to', 'share', 'the', 'venison', 'that', 'night', 'as', 'the', 'hosts', 'and', 'their', 'guests', 'feasted', 'around', 'the', 'roasting', 'fire', 'tarketios', 'tried', 'to', 'explain', 'something', 'of', 'his', 'craft', 'firelight', 'glittered', 'in', 'lara', 'eyes', 'as', 'she', 'watched', 'tarketios', 'point', 'at', 'the', 'flames', 'and', 'mime', 'the', 'act', 'of', 'hammering', 'firelight', 'danced', 'across', 'the', 'flexing', 'muscles', 'of', 'his', 'arms', 'and', 'shoulders', 'when', 'he', 'smiled', 'at', 'her', 'his', 'grin', 'was', 'like', 'a', 'boast', 'she', 'had', 'never', 'seen', 'teeth', 'so', 'white', 'and', 'so', 'perfect']\n"
          ]
        }
      ]
    },
    {
      "cell_type": "code",
      "source": [
        "#load and add stopwords\n",
        "stop_words = stopwords.words(\"english\")\n",
        "stop_words.extend(['us','could','though','would','also','many','much', 'might', 'must', 'whose', 'every', 'without','another', 'among'])\n",
        "\n",
        "#Removing the stopwords\n",
        "normalized_tokens = [token for token in clean_tokens if token not in stop_words]\n",
        "print(len(normalized_tokens), normalized_tokens)"
      ],
      "metadata": {
        "colab": {
          "base_uri": "https://localhost:8080/"
        },
        "id": "ORYXB_Mxpv5J",
        "outputId": "431a5108-16f9-49ab-a9e4-55ab41844846"
      },
      "execution_count": 13,
      "outputs": [
        {
          "output_type": "stream",
          "name": "stdout",
          "text": [
            "994 ['chapter', 'one', 'stop', 'salt', 'route', 'rounded', 'bend', 'path', 'ran', 'beside', 'river', 'lara', 'recognized', 'silhouette', 'fig', 'tree', 'atop', 'nearby', 'hill', 'weather', 'hot', 'days', 'long', 'fig', 'tree', 'full', 'leaf', 'yet', 'bearing', 'fruit', 'soon', 'lara', 'spotted', 'landmarks', 'outcropping', 'limestone', 'beside', 'path', 'silhouette', 'like', 'man', 'face', 'marshy', 'spot', 'beside', 'river', 'waterfowl', 'easily', 'startled', 'tall', 'tree', 'looked', 'like', 'man', 'arms', 'upraised', 'drawing', 'near', 'place', 'island', 'river', 'island', 'good', 'spot', 'make', 'camp', 'sleep', 'island', 'tonight', 'lara', 'back', 'forth', 'along', 'river', 'path', 'times', 'short', 'life', 'people', 'created', 'path', 'always', 'like', 'river', 'deerskin', 'shod', 'feet', 'wooden', 'wheels', 'handcarts', 'kept', 'path', 'well', 'worn', 'lara', 'people', 'salt', 'traders', 'livelihood', 'took', 'continual', 'journey', 'mouth', 'river', 'little', 'group', 'half', 'dozen', 'intermingled', 'families', 'gathered', 'salt', 'great', 'salt', 'beds', 'beside', 'sea', 'groomed', 'sifted', 'salt', 'loaded', 'handcarts', 'carts', 'full', 'group', 'stay', 'behind', 'taking', 'shelter', 'amid', 'rocks', 'simple', 'lean', 'tos', 'band', 'fifteen', 'heartier', 'members', 'set', 'path', 'ran', 'alongside', 'river', 'precious', 'cargo', 'salt', 'travelers', 'crossed', 'coastal', 'lowlands', 'traveled', 'toward', 'mountains', 'lara', 'people', 'never', 'reached', 'mountaintops', 'traveled', 'far', 'foothills', 'people', 'lived', 'forests', 'grassy', 'meadows', 'foothills', 'gathered', 'small', 'villages', 'return', 'salt', 'people', 'give', 'lara', 'people', 'dried', 'meat', 'animal', 'skins', 'cloth', 'spun', 'wool', 'clay', 'pots', 'needles', 'scraping', 'tools', 'carved', 'bone', 'little', 'toys', 'made', 'wood', 'bartering', 'done', 'lara', 'people', 'travel', 'back', 'river', 'path', 'sea', 'cycle', 'begin', 'always', 'like', 'lara', 'knew', 'life', 'traveled', 'back', 'forth', 'river', 'path', 'single', 'place', 'home', 'liked', 'seaside', 'always', 'fish', 'eat', 'gentle', 'lapping', 'waves', 'lulled', 'sleep', 'night', 'less', 'fond', 'foothills', 'path', 'grew', 'steep', 'nights', 'cold', 'views', 'great', 'distances', 'made', 'dizzy', 'felt', 'uneasy', 'villages', 'often', 'around', 'strangers', 'path', 'felt', 'home', 'loved', 'smell', 'river', 'hot', 'day', 'croaking', 'frogs', 'night', 'vines', 'grew', 'amid', 'lush', 'foliage', 'along', 'river', 'berries', 'good', 'eat', 'even', 'hottest', 'day', 'sundown', 'brought', 'cool', 'breeze', 'water', 'sighed', 'sang', 'amid', 'reeds', 'tall', 'grasses', 'places', 'along', 'path', 'area', 'approaching', 'island', 'river', 'lara', 'favorite', 'terrain', 'along', 'stretch', 'river', 'mostly', 'flat', 'immediate', 'vicinity', 'island', 'land', 'sunrise', 'side', 'like', 'rumpled', 'cloth', 'hills', 'ridges', 'valleys', 'lara', 'people', 'wooden', 'baby', 'crib', 'suitable', 'strapping', 'cart', 'passed', 'generations', 'island', 'shaped', 'like', 'crib', 'longer', 'wide', 'pointed', 'upriver', 'end', 'flow', 'eroded', 'banks', 'island', 'like', 'crib', 'group', 'hills', 'sunrise', 'side', 'river', 'like', 'old', 'women', 'mantled', 'heavy', 'cloaks', 'gathered', 'look', 'baby', 'crib', 'lara', 'father', 'described', 'lay', 'land', 'larth', 'spoke', 'like', 'time', 'conjuring', 'images', 'giants', 'monsters', 'landscape', 'perceive', 'spirits', 'called', 'numina', 'dwelled', 'rocks', 'trees', 'sometimes', 'speak', 'hear', 'say', 'river', 'oldest', 'friend', 'told', 'fishing', 'best', 'whispers', 'wind', 'foretell', 'next', 'day', 'weather', 'skills', 'larth', 'leader', 'group', 'close', 'island', 'papa', 'said', 'lara', 'know', 'hills', 'first', 'start', 'see', 'hills', 'right', 'hills', 'grow', 'bigger', 'come', 'island', 'see', 'silhouette', 'fig', 'tree', 'along', 'crest', 'hill', 'good', 'girl', 'said', 'larth', 'proud', 'daughter', 'memory', 'powers', 'observation', 'strong', 'handsome', 'man', 'flecks', 'gray', 'black', 'beard', 'wife', 'borne', 'several', 'children', 'died', 'young', 'except', 'lara', 'last', 'wife', 'died', 'bearing', 'lara', 'precious', 'like', 'mother', 'golden', 'hair', 'reached', 'age', 'childbearing', 'lara', 'beginning', 'display', 'fullness', 'woman', 'hips', 'breasts', 'larth', 'greatest', 'wish', 'live', 'see', 'grandchildren', 'man', 'lived', 'long', 'larth', 'hopeful', 'healthy', 'life', 'partly', 'believed', 'always', 'careful', 'show', 'respect', 'numina', 'encountered', 'journeys', 'respecting', 'numina', 'important', 'numen', 'river', 'suck', 'man', 'drown', 'numen', 'tree', 'trip', 'man', 'roots', 'drop', 'rotten', 'branch', 'head', 'rocks', 'give', 'way', 'underfoot', 'chuckling', 'amusement', 'treachery', 'even', 'roar', 'fury', 'sometimes', 'sent', 'fingers', 'fire', 'roast', 'man', 'like', 'rabbit', 'spit', 'worse', 'leave', 'alive', 'robbed', 'senses', 'larth', 'heard', 'earth', 'open', 'swallow', 'man', 'never', 'actually', 'seen', 'thing', 'nevertheless', 'performed', 'ritual', 'morning', 'asking', 'earth', 'permission', 'went', 'striding', 'across', 'something', 'special', 'place', 'said', 'lara', 'gazing', 'sparkling', 'river', 'left', 'rocky', 'tree', 'spotted', 'hills', 'ahead', 'right', 'made', 'made', 'larth', 'frowned', 'question', 'made', 'sense', 'place', 'never', 'made', 'simply', 'small', 'features', 'change', 'time', 'uprooted', 'storm', 'tree', 'fall', 'river', 'boulder', 'decide', 'tumble', 'hillside', 'numina', 'animated', 'things', 'went', 'reshaping', 'landscape', 'day', 'day', 'essential', 'things', 'never', 'changed', 'always', 'existed', 'river', 'hills', 'sun', 'sea', 'salt', 'beds', 'mouth', 'river', 'trying', 'think', 'way', 'express', 'thoughts', 'lara', 'deer', 'drinking', 'river', 'startled', 'approach', 'deer', 'bolted', 'brushy', 'bank', 'onto', 'path', 'instead', 'running', 'safety', 'creature', 'stood', 'stared', 'clearly', 'animal', 'whispered', 'aloud', 'larth', 'heard', 'words', 'eat', 'deer', 'offering', 'larth', 'turned', 'shout', 'order', 'skilled', 'hunter', 'group', 'youth', 'called', 'po', 'already', 'motion', 'po', 'ran', 'forward', 'raised', 'sharpened', 'stick', 'always', 'carried', 'hurled', 'whistling', 'air', 'larth', 'lara', 'heartbeat', 'later', 'spear', 'struck', 'deer', 'breast', 'force', 'creature', 'knocked', 'ground', 'unable', 'rise', 'thrashed', 'neck', 'flailed', 'long', 'slender', 'legs', 'po', 'ran', 'past', 'larth', 'lara', 'reached', 'deer', 'pulled', 'spear', 'free', 'stabbed', 'creature', 'deer', 'released', 'stifled', 'noise', 'like', 'gasp', 'stopped', 'moving', 'cheer', 'group', 'instead', 'yet', 'dinner', 'fish', 'river', 'tonight', 'venison', 'distance', 'riverbank', 'island', 'great', 'time', 'year', 'early', 'summer', 'river', 'high', 'wade', 'across', 'lara', 'people', 'long', 'ago', 'made', 'simple', 'rafts', 'branches', 'lashed', 'together', 'leather', 'thongs', 'left', 'riverbanks', 'repairing', 'replacing', 'needed', 'last', 'passed', 'way', 'three', 'rafts', 'good', 'condition', 'left', 'east', 'bank', 'two', 'rafts', 'still', 'one', 'missing', 'see', 'pulled', 'bank', 'island', 'almost', 'hidden', 'leaves', 'said', 'po', 'eyes', 'sharp', 'someone', 'used', 'cross', 'perhaps', 'still', 'island', 'said', 'larth', 'begrudge', 'others', 'use', 'rafts', 'island', 'large', 'enough', 'share', 'nonetheless', 'situation', 'required', 'caution', 'cupped', 'hands', 'mouth', 'gave', 'shout', 'long', 'man', 'appeared', 'bank', 'island', 'man', 'waved', 'know', 'said', 'larth', 'squinting', 'think', 'said', 'po', 'young', 'age', 'younger', 'say', 'looks', 'strong', 'strong', 'said', 'lara', 'even', 'distance', 'young', 'stranger', 'brawniness', 'impressive', 'wore', 'short', 'tunic', 'sleeves', 'lara', 'never', 'seen', 'arms', 'man', 'po', 'small', 'wiry', 'looked', 'lara', 'sidelong', 'frowned', 'sure', 'like', 'look', 'stranger', 'said', 'lara', 'smiling', 'fact', 'young', 'man', 'smiling', 'lara', 'lara', 'alone', 'name', 'tarketios', 'larth', 'tell', 'stranger', 'spoke', 'language', 'larth', 'recognize', 'word', 'seemed', 'long', 'convoluted', 'man', 'name', 'understanding', 'deer', 'easier', 'understanding', 'strange', 'noises', 'uttered', 'man', 'two', 'companions', 'even', 'seemed', 'friendly', 'three', 'presented', 'threat', 'numerous', 'salt', 'traders', 'tarketios', 'two', 'older', 'companions', 'skilled', 'metalworkers', 'region', 'two', 'hundred', 'miles', 'north', 'hills', 'rich', 'iron', 'copper', 'lead', 'trading', 'journey', 'south', 'returning', 'home', 'river', 'path', 'carried', 'larth', 'people', 'seashore', 'hills', 'path', 'perpendicular', 'river', 'traversed', 'long', 'coastal', 'plain', 'island', 'provided', 'easy', 'place', 'ford', 'river', 'two', 'paths', 'intersected', 'occasion', 'salt', 'traders', 'metal', 'traders', 'happened', 'arrive', 'island', 'day', 'met', 'first', 'time', 'two', 'groups', 'made', 'separate', 'camps', 'opposite', 'ends', 'island', 'gesture', 'friendship', 'speaking', 'hands', 'larth', 'invited', 'tarketios', 'others', 'share', 'venison', 'night', 'hosts', 'guests', 'feasted', 'around', 'roasting', 'fire', 'tarketios', 'tried', 'explain', 'something', 'craft', 'firelight', 'glittered', 'lara', 'eyes', 'watched', 'tarketios', 'point', 'flames', 'mime', 'act', 'hammering', 'firelight', 'danced', 'across', 'flexing', 'muscles', 'arms', 'shoulders', 'smiled', 'grin', 'like', 'boast', 'never', 'seen', 'teeth', 'white', 'perfect']\n"
          ]
        }
      ]
    },
    {
      "cell_type": "code",
      "source": [
        "#Categorized each word\n",
        "tokens_tagset = nltk.pos_tag(normalized_tokens)\n",
        "df_tokens = pd.DataFrame(tokens_tagset, columns=['Word', 'Tag'])"
      ],
      "metadata": {
        "id": "6zhpgOunM05S"
      },
      "execution_count": 14,
      "outputs": []
    },
    {
      "cell_type": "code",
      "source": [
        "# Create Lemmatizer \n",
        "lemmatizer = WordNetLemmatizer()\n",
        "\n",
        "#Lemmatize each word \n",
        "lemmatized_tokens = []\n",
        "for word in normalized_tokens:\n",
        "    output= [word, lemmatizer.lemmatize(word, pos='n'), \n",
        "            lemmatizer.lemmatize(word, pos='a'),\n",
        "            lemmatizer.lemmatize(word, pos='v')]\n",
        "    lemmatized_tokens.append(output)\n",
        "\n",
        "#Create DataFrame using original words and their lemmatized words\n",
        "df = pd.DataFrame(lemmatized_tokens, columns =['Word', 'Lemmatized Noun', 'Lemmatized Adjective', 'Lemmatized Verb'])\n",
        "df['Tag'] = df_tokens['Tag']"
      ],
      "metadata": {
        "id": "UJaO2HCNq8Wc"
      },
      "execution_count": 15,
      "outputs": []
    },
    {
      "cell_type": "code",
      "source": [
        "'''\n",
        "Simplifying words' tag into noun, adjective, and verb to choose which lemmatized\n",
        "word to be used.\n",
        "Lemmatizing words with their tags can increase the accuracy.\n",
        "'''  \n",
        "df = df.replace(['NN','NNP','NNS','NNPS'],'n')\n",
        "df = df.replace(['JJ','JJR','JJS'],'a')\n",
        "df = df.replace(['VB','VBD','VBG','VBN','VBP','VBZ'],'v')\n",
        "words = []\n",
        "for idx in range (0, len(lemmatized_tokens)):\n",
        "  if df.loc[idx]['Tag']=='n':\n",
        "    word = df['Lemmatized Noun'][idx]\n",
        "  elif df.loc[idx]['Tag']=='a':\n",
        "    word = df['Lemmatized Adjective'][idx]\n",
        "  elif df.loc[idx]['Tag']=='v':\n",
        "    word = df['Lemmatized Verb'][idx]\n",
        "  else:\n",
        "    word = df['Word'][idx]  \n",
        "  words.append(word)\n",
        "\n",
        "#This list of words `words` is the final result of this text processing.\n",
        "df['Final Word'] = words"
      ],
      "metadata": {
        "id": "Ur5jmTGMcUUT"
      },
      "execution_count": 16,
      "outputs": []
    },
    {
      "cell_type": "code",
      "source": [
        "!python3 text-processing.py"
      ],
      "metadata": {
        "colab": {
          "base_uri": "https://localhost:8080/"
        },
        "id": "wcIuiw6UQXFT",
        "outputId": "8572577a-8649-4e1e-fd1f-18ef62c9562a"
      },
      "execution_count": 21,
      "outputs": [
        {
          "output_type": "stream",
          "name": "stdout",
          "text": [
            "[nltk_data] Downloading package punkt to /root/nltk_data...\n",
            "[nltk_data]   Package punkt is already up-to-date!\n",
            "[nltk_data] Downloading package wordnet to /root/nltk_data...\n",
            "[nltk_data]   Package wordnet is already up-to-date!\n",
            "[nltk_data] Downloading package stopwords to /root/nltk_data...\n",
            "[nltk_data]   Package stopwords is already up-to-date!\n",
            "[nltk_data] Downloading package averaged_perceptron_tagger to\n",
            "[nltk_data]     /root/nltk_data...\n",
            "[nltk_data]   Package averaged_perceptron_tagger is already up-to-\n",
            "[nltk_data]       date!\n",
            "[nltk_data] Downloading package omw-1.4 to /root/nltk_data...\n",
            "[nltk_data]   Package omw-1.4 is already up-to-date!\n"
          ]
        }
      ]
    },
    {
      "cell_type": "code",
      "source": [],
      "metadata": {
        "id": "MgoWmpdkTRgN"
      },
      "execution_count": null,
      "outputs": []
    }
  ]
}